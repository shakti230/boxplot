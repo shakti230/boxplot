{
 "cells": [
  {
   "cell_type": "markdown",
   "metadata": {},
   "source": [
    "# Mary McDonagh\n",
    "# Fundamentals of Data Analysis\n",
    "# Analysis of box plot\n",
    "\n",
    "### Table of Contents\n",
    "- 1.0 Investigation\n",
    "- 2.0 Assignment Questions:\n",
    "- 2.1 Summarise the history of the box plot and situations in which it used.\n",
    "- 2.2 Demonstrate the use of the box plot using data of your choosing.\n",
    "- 2.3 Explain any relevant terminology such as the terms quartile and percentile. \n",
    "- 2.4 Compare the box plot to alternatives. \n",
    "- 3.0 Summary\n",
    "- 4.0 References"
   ]
  },
  {
   "cell_type": "markdown",
   "metadata": {},
   "source": [
    "### 1.0 Investigation\n",
    "Investigate the box plot using Python.\n",
    "Initial steps carried out:\n",
    "- Research the history of the box plot.\n",
    "- Demonstrate the use of it with data.\n",
    "- Import required libraries.\n",
    "- Research and explanation of terminology.\n",
    "- Comparison of the box plot to alternatives.\n",
    "- Analyse all of the above information to summarise the dataset in detail."
   ]
  },
  {
   "attachments": {
    "image.png": {
     "image/png": "[encoded data removed]"
    }
   },
   "cell_type": "markdown",
   "metadata": {},
   "source": [
    "### 2.1 Explain the history of the box plot.\n",
    "\n",
    "There are many different names given to box plots - dot or strip plots which essentially represent the empirical quantile function. Box plots were used in climatology and geography from at least 1933 but often referred to as “dispersion diagram”. In 1952, Mary Ellen Spear first introduced the box plot as “range bars” in a text on graphics. Such diagrams showed median, quartiles and extremes, and often more detail about other data points than many box plots do at present (reference 1).  Box plots had several under-appreciated precursors under different names, including range bars (Spear 1952, 1969) and dispersion diagrams in geography and climatology (e.g., Crowe [1933] and Monkhouse and Wilkinson [1971]).\n",
    "\n",
    "Primarily box plots have been recognised as a result of the work of famous statistician John W Tukey in 1970, 1972 and 1977. Tukey introduced the box and whiskers plot as part ofa schematic plot in his toolkit for exploratory data analysis. While introduced in 1972, this was formally published in 1977. To this day people refer to this as being the source of the box plot. This design has remained mainly static and Edward Tufte created a cut down version of it (reference 2). Box plots can display basic summaries of the median and quartile. Tukey called this a schematic plot, a box and whiskers plot with some special restrictions on the summary statistics used. In the 1950's the range bar was created and evolved into the basic box plot. \n",
    "\n",
    "In Tukey's early evolution of the boxplot, the distribution of sample data was defined as being within the “hinges”, the interquartile range, within the “sides”, the inner fences, and being within the “corners”, the outer fences. The “sides” were determined as being one interquartile range length beyond each quartile with the “corners” being two interquartile range lengths beyond each quartile. At this time it became known as the schematic plot, with the box representing the interquartile range, dashed lines on either side leading to the most extreme values within the “sides”, with points beyond the sides, but within the corners, plotted individually as being “outside”, and extreme data points beyond the corners plotted separately as\n",
    "being “detached” (Tukey, 1972) (reference 3).\n",
    "\n",
    "Box plots have been widely adopted and have become of the most frequently used statistical graphs. Box plots are useful for comparing distributions amongst groups. Essentially the box plot is a distributional summary, fairly compact and small in size with less detail than other plots such as a histogram. Box plots use summary statistical data which are displayed at actual data points. This data can be computed very quickly and does not require any parameters to be set (reference 4). \n",
    "\n",
    "#### Components of a box plot\n",
    "\n",
    "- the median\n",
    "- two hinges, the upper and lower fourths (quartiles)\n",
    "- the data values adjacent to the upper and lower fences, which lie 1.5 times the inter-fourth range from the median\n",
    "- two whiskers that connect the hinges to the fences\n",
    "- (potential) out-liers, individual points further away from the median than the extremes\n",
    "\n",
    "![image.png](attachment:image.png)\n",
    "\n",
    "#### Construction of a boxplot. \n",
    "Labels on the left give names for graphic elements, labels on the right give the\n",
    "corresponding summary statistics\n",
    "\n",
    "You can use options in a box plot statement to outline the following (reference 5):\n",
    "- control the style of the box-and-whisker plots \n",
    "- specify one of several methods for calculating quantile statistics (percentiles) \n",
    "- add block legends and symbol markers to reveal stratification in data \n",
    "- display vertical and horizontal reference lines \n",
    "- control axis values and labels \n",
    "- control the layout and appearance of the plot\n"
   ]
  },
  {
   "cell_type": "markdown",
   "metadata": {},
   "source": [
    "### 2.2 Demonstrate the use of the box plot using data"
   ]
  },
  {
   "cell_type": "code",
   "execution_count": 4,
   "metadata": {},
   "outputs": [],
   "source": [
    "# import packages\n",
    "import pandas as pd\n",
    "import matplotlib.pyplot as plt"
   ]
  },
  {
   "cell_type": "markdown",
   "metadata": {},
   "source": [
    "### 2.3 Explain any relevant terminology in relation to the box plot"
   ]
  },
  {
   "cell_type": "markdown",
   "metadata": {},
   "source": [
    "### 2.4 Compare the box plot to other alternatives"
   ]
  },
  {
   "cell_type": "markdown",
   "metadata": {},
   "source": [
    "### 3.0 Summary"
   ]
  },
  {
   "cell_type": "markdown",
   "metadata": {},
   "source": [
    "### 4.0 References\n",
    "\n",
    "- Reference 1: https://flowingdata.com/2011/12/06/40-years-of-boxplots/\n",
    "- Reference 2: https://stats.stackexchange.com/questions/369393/whats-the-history-of-box-plots-and-how-did-the-box-and-whiskers-design-evolv\n",
    "- Reference 3: https://louisville.edu/sphis/bb/src-2013/student-poster-competition/Abstract_WalkerM.pdf\n",
    "- Reference 4: http://vita.had.co.nz/papers/boxplots.pdf\n",
    "- Reference 5: http://www.math.wpi.edu/saspdf/stat/chap18.pdf"
   ]
  }
 ],
 "metadata": {
  "kernelspec": {
   "display_name": "Python 3",
   "language": "python",
   "name": "python3"
  },
  "language_info": {
   "codemirror_mode": {
    "name": "ipython",
    "version": 3
   },
   "file_extension": ".py",
   "mimetype": "text/x-python",
   "name": "python",
   "nbconvert_exporter": "python",
   "pygments_lexer": "ipython3",
   "version": "3.6.4"
  }
 },
 "nbformat": 4,
 "nbformat_minor": 2
}
